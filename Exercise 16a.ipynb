{
 "cells": [
  {
   "cell_type": "code",
   "execution_count": 114,
   "id": "99d2ce6b-3211-45e4-aa4d-f27929dc7811",
   "metadata": {},
   "outputs": [],
   "source": [
    "import pandas as pd\n",
    "import matplotlib.pyplot as plt \n",
    "import seaborn as sns"
   ]
  },
  {
   "cell_type": "code",
   "execution_count": 115,
   "id": "576f9ad0-37ab-4f72-8b70-ec5435244265",
   "metadata": {},
   "outputs": [
    {
     "data": {
      "text/html": [
       "<div>\n",
       "<style scoped>\n",
       "    .dataframe tbody tr th:only-of-type {\n",
       "        vertical-align: middle;\n",
       "    }\n",
       "\n",
       "    .dataframe tbody tr th {\n",
       "        vertical-align: top;\n",
       "    }\n",
       "\n",
       "    .dataframe thead th {\n",
       "        text-align: right;\n",
       "    }\n",
       "</style>\n",
       "<table border=\"1\" class=\"dataframe\">\n",
       "  <thead>\n",
       "    <tr style=\"text-align: right;\">\n",
       "      <th></th>\n",
       "      <th>period</th>\n",
       "      <th>Annually – (Percentage of GDP at current prices (excessive deficit procedure)) – Germany (AMECO/UDGG/DEU.1.0.319.0.UDGG)</th>\n",
       "      <th>Annually – (Percentage of GDP at current prices (excessive deficit procedure)) – Spain (AMECO/UDGG/ESP.1.0.319.0.UDGG)</th>\n",
       "      <th>Annually – (Percentage of GDP at current prices (excessive deficit procedure)) – France (AMECO/UDGG/FRA.1.0.319.0.UDGG)</th>\n",
       "      <th>Annually – (Percentage of GDP at current prices (excessive deficit procedure)) – Italy (AMECO/UDGG/ITA.1.0.319.0.UDGG)</th>\n",
       "    </tr>\n",
       "  </thead>\n",
       "  <tbody>\n",
       "    <tr>\n",
       "      <th>0</th>\n",
       "      <td>1960</td>\n",
       "      <td>NaN</td>\n",
       "      <td>NaN</td>\n",
       "      <td>NaN</td>\n",
       "      <td>31.7953</td>\n",
       "    </tr>\n",
       "    <tr>\n",
       "      <th>1</th>\n",
       "      <td>1961</td>\n",
       "      <td>NaN</td>\n",
       "      <td>NaN</td>\n",
       "      <td>NaN</td>\n",
       "      <td>29.9336</td>\n",
       "    </tr>\n",
       "    <tr>\n",
       "      <th>2</th>\n",
       "      <td>1962</td>\n",
       "      <td>NaN</td>\n",
       "      <td>NaN</td>\n",
       "      <td>NaN</td>\n",
       "      <td>28.7905</td>\n",
       "    </tr>\n",
       "    <tr>\n",
       "      <th>3</th>\n",
       "      <td>1963</td>\n",
       "      <td>NaN</td>\n",
       "      <td>NaN</td>\n",
       "      <td>NaN</td>\n",
       "      <td>26.8476</td>\n",
       "    </tr>\n",
       "    <tr>\n",
       "      <th>4</th>\n",
       "      <td>1964</td>\n",
       "      <td>NaN</td>\n",
       "      <td>NaN</td>\n",
       "      <td>NaN</td>\n",
       "      <td>26.6785</td>\n",
       "    </tr>\n",
       "    <tr>\n",
       "      <th>5</th>\n",
       "      <td>1965</td>\n",
       "      <td>NaN</td>\n",
       "      <td>NaN</td>\n",
       "      <td>NaN</td>\n",
       "      <td>27.7109</td>\n",
       "    </tr>\n",
       "    <tr>\n",
       "      <th>6</th>\n",
       "      <td>1966</td>\n",
       "      <td>NaN</td>\n",
       "      <td>NaN</td>\n",
       "      <td>NaN</td>\n",
       "      <td>32.3737</td>\n",
       "    </tr>\n",
       "    <tr>\n",
       "      <th>7</th>\n",
       "      <td>1967</td>\n",
       "      <td>NaN</td>\n",
       "      <td>NaN</td>\n",
       "      <td>NaN</td>\n",
       "      <td>31.9473</td>\n",
       "    </tr>\n",
       "    <tr>\n",
       "      <th>8</th>\n",
       "      <td>1968</td>\n",
       "      <td>NaN</td>\n",
       "      <td>NaN</td>\n",
       "      <td>NaN</td>\n",
       "      <td>34.3091</td>\n",
       "    </tr>\n",
       "    <tr>\n",
       "      <th>9</th>\n",
       "      <td>1969</td>\n",
       "      <td>NaN</td>\n",
       "      <td>NaN</td>\n",
       "      <td>NaN</td>\n",
       "      <td>34.9216</td>\n",
       "    </tr>\n",
       "  </tbody>\n",
       "</table>\n",
       "</div>"
      ],
      "text/plain": [
       "   period  \\\n",
       "0    1960   \n",
       "1    1961   \n",
       "2    1962   \n",
       "3    1963   \n",
       "4    1964   \n",
       "5    1965   \n",
       "6    1966   \n",
       "7    1967   \n",
       "8    1968   \n",
       "9    1969   \n",
       "\n",
       "   Annually – (Percentage of GDP at current prices (excessive deficit procedure)) – Germany (AMECO/UDGG/DEU.1.0.319.0.UDGG)  \\\n",
       "0                                                NaN                                                                          \n",
       "1                                                NaN                                                                          \n",
       "2                                                NaN                                                                          \n",
       "3                                                NaN                                                                          \n",
       "4                                                NaN                                                                          \n",
       "5                                                NaN                                                                          \n",
       "6                                                NaN                                                                          \n",
       "7                                                NaN                                                                          \n",
       "8                                                NaN                                                                          \n",
       "9                                                NaN                                                                          \n",
       "\n",
       "   Annually – (Percentage of GDP at current prices (excessive deficit procedure)) – Spain (AMECO/UDGG/ESP.1.0.319.0.UDGG)  \\\n",
       "0                                                NaN                                                                        \n",
       "1                                                NaN                                                                        \n",
       "2                                                NaN                                                                        \n",
       "3                                                NaN                                                                        \n",
       "4                                                NaN                                                                        \n",
       "5                                                NaN                                                                        \n",
       "6                                                NaN                                                                        \n",
       "7                                                NaN                                                                        \n",
       "8                                                NaN                                                                        \n",
       "9                                                NaN                                                                        \n",
       "\n",
       "   Annually – (Percentage of GDP at current prices (excessive deficit procedure)) – France (AMECO/UDGG/FRA.1.0.319.0.UDGG)  \\\n",
       "0                                                NaN                                                                         \n",
       "1                                                NaN                                                                         \n",
       "2                                                NaN                                                                         \n",
       "3                                                NaN                                                                         \n",
       "4                                                NaN                                                                         \n",
       "5                                                NaN                                                                         \n",
       "6                                                NaN                                                                         \n",
       "7                                                NaN                                                                         \n",
       "8                                                NaN                                                                         \n",
       "9                                                NaN                                                                         \n",
       "\n",
       "   Annually – (Percentage of GDP at current prices (excessive deficit procedure)) – Italy (AMECO/UDGG/ITA.1.0.319.0.UDGG)  \n",
       "0                                            31.7953                                                                       \n",
       "1                                            29.9336                                                                       \n",
       "2                                            28.7905                                                                       \n",
       "3                                            26.8476                                                                       \n",
       "4                                            26.6785                                                                       \n",
       "5                                            27.7109                                                                       \n",
       "6                                            32.3737                                                                       \n",
       "7                                            31.9473                                                                       \n",
       "8                                            34.3091                                                                       \n",
       "9                                            34.9216                                                                       "
      ]
     },
     "execution_count": 115,
     "metadata": {},
     "output_type": "execute_result"
    }
   ],
   "source": [
    "url = \"https://api.db.nomics.world/v22/series/AMECO/UDGG.csv?dimensions=%7B%22freq%22%3A%5B%22a%22%5D%2C%22unit%22%3A%5B%22percentage-of-gdp-at-current-prices-excessive-deficit-procedure%22%5D%2C%22geo%22%3A%5B%22deu%22%2C%22ita%22%2C%22fra%22%2C%22esp%22%5D%7D&limit=1000\"\n",
    "\n",
    "\n",
    "df_debt = pd.read_csv(url)\n",
    "\n",
    "df_debt.head(10)"
   ]
  },
  {
   "cell_type": "code",
   "execution_count": 116,
   "id": "5ccc7731-e42b-46fa-922c-6274a6bcd997",
   "metadata": {},
   "outputs": [],
   "source": [
    "df_debt.to_csv('data/df_debt.csv', sep = \",\", index = False)"
   ]
  },
  {
   "cell_type": "code",
   "execution_count": 117,
   "id": "934b54ff-6013-4d87-b21f-b7f3d107e799",
   "metadata": {},
   "outputs": [],
   "source": [
    "new_names = {df_debt.columns[0]: \"Year\",\n",
    "             df_debt.columns[1]: \"Germany\",\n",
    "             df_debt.columns[2]: \"Spain\",\n",
    "             df_debt.columns[3]: \"France\",\n",
    "             df_debt.columns[4]: \"Italy\",}\n",
    "\n",
    "df_debt.rename(columns = new_names, inplace = True)"
   ]
  },
  {
   "cell_type": "code",
   "execution_count": 118,
   "id": "fc1fffd2-1252-4c48-93eb-99179cea655c",
   "metadata": {},
   "outputs": [
    {
     "data": {
      "text/html": [
       "<div>\n",
       "<style scoped>\n",
       "    .dataframe tbody tr th:only-of-type {\n",
       "        vertical-align: middle;\n",
       "    }\n",
       "\n",
       "    .dataframe tbody tr th {\n",
       "        vertical-align: top;\n",
       "    }\n",
       "\n",
       "    .dataframe thead th {\n",
       "        text-align: right;\n",
       "    }\n",
       "</style>\n",
       "<table border=\"1\" class=\"dataframe\">\n",
       "  <thead>\n",
       "    <tr style=\"text-align: right;\">\n",
       "      <th></th>\n",
       "      <th>Year</th>\n",
       "      <th>Germany</th>\n",
       "      <th>Spain</th>\n",
       "      <th>France</th>\n",
       "      <th>Italy</th>\n",
       "    </tr>\n",
       "  </thead>\n",
       "  <tbody>\n",
       "    <tr>\n",
       "      <th>0</th>\n",
       "      <td>1960</td>\n",
       "      <td>NaN</td>\n",
       "      <td>NaN</td>\n",
       "      <td>NaN</td>\n",
       "      <td>31.7953</td>\n",
       "    </tr>\n",
       "    <tr>\n",
       "      <th>1</th>\n",
       "      <td>1961</td>\n",
       "      <td>NaN</td>\n",
       "      <td>NaN</td>\n",
       "      <td>NaN</td>\n",
       "      <td>29.9336</td>\n",
       "    </tr>\n",
       "    <tr>\n",
       "      <th>2</th>\n",
       "      <td>1962</td>\n",
       "      <td>NaN</td>\n",
       "      <td>NaN</td>\n",
       "      <td>NaN</td>\n",
       "      <td>28.7905</td>\n",
       "    </tr>\n",
       "    <tr>\n",
       "      <th>3</th>\n",
       "      <td>1963</td>\n",
       "      <td>NaN</td>\n",
       "      <td>NaN</td>\n",
       "      <td>NaN</td>\n",
       "      <td>26.8476</td>\n",
       "    </tr>\n",
       "    <tr>\n",
       "      <th>4</th>\n",
       "      <td>1964</td>\n",
       "      <td>NaN</td>\n",
       "      <td>NaN</td>\n",
       "      <td>NaN</td>\n",
       "      <td>26.6785</td>\n",
       "    </tr>\n",
       "  </tbody>\n",
       "</table>\n",
       "</div>"
      ],
      "text/plain": [
       "   Year  Germany  Spain  France    Italy\n",
       "0  1960      NaN    NaN     NaN  31.7953\n",
       "1  1961      NaN    NaN     NaN  29.9336\n",
       "2  1962      NaN    NaN     NaN  28.7905\n",
       "3  1963      NaN    NaN     NaN  26.8476\n",
       "4  1964      NaN    NaN     NaN  26.6785"
      ]
     },
     "execution_count": 118,
     "metadata": {},
     "output_type": "execute_result"
    }
   ],
   "source": [
    "df_debt.head()"
   ]
  },
  {
   "cell_type": "code",
   "execution_count": 119,
   "id": "d763dd13-ec20-44ca-8a9e-af58f8ac9788",
   "metadata": {},
   "outputs": [
    {
     "data": {
      "text/plain": [
       "Year        0\n",
       "Germany    35\n",
       "Spain      35\n",
       "France     35\n",
       "Italy       0\n",
       "dtype: int64"
      ]
     },
     "execution_count": 119,
     "metadata": {},
     "output_type": "execute_result"
    }
   ],
   "source": [
    "df_debt.isnull().sum()\n"
   ]
  },
  {
   "cell_type": "code",
   "execution_count": null,
   "id": "45088fcb-9523-4517-8954-bc0f98a05ae8",
   "metadata": {},
   "outputs": [],
   "source": [
    "df_debt.dropna(inplace = True)\n",
    "df_debt.reset_index(drop=True, inplace = True)\n",
    "df_debt"
   ]
  },
  {
   "cell_type": "code",
   "execution_count": null,
   "id": "3eee4e3d",
   "metadata": {},
   "outputs": [],
   "source": [
    "df_debt.to_csv('data/df_debt_wide.csv',sep = \",\", index= False )"
   ]
  },
  {
   "cell_type": "code",
   "execution_count": null,
   "id": "20f7dba9",
   "metadata": {},
   "outputs": [],
   "source": [
    "x= df_debt['Year']\n",
    "countries = ['Germany','France','Spain','Italy']\n",
    "for country in countries:\n",
    "    plt.plot(x,df_debt[country],label =country)\n",
    "plt.legend()\n",
    "plt.show()"
   ]
  },
  {
   "cell_type": "markdown",
   "id": "27fd2f4d",
   "metadata": {},
   "source": [
    "# From Wide to Long"
   ]
  },
  {
   "cell_type": "code",
   "execution_count": null,
   "id": "83ac3960",
   "metadata": {},
   "outputs": [],
   "source": [
    "df_debt_long = pd.melt(\n",
    "    df_debt,\n",
    "    id_vars= 'Year',\n",
    "    var_name = 'Country',\n",
    "    value_name = 'Debt ratio'\n",
    ")\n",
    "\n",
    "df_debt_long"
   ]
  },
  {
   "cell_type": "code",
   "execution_count": null,
   "id": "fc150dd8",
   "metadata": {},
   "outputs": [],
   "source": [
    "sns.lineplot(x='Year',\n",
    "            y='Debt ratio',\n",
    "            hue= 'Country',\n",
    "            data=df_debt_long)"
   ]
  },
  {
   "cell_type": "markdown",
   "id": "bf156c0b",
   "metadata": {},
   "source": [
    "# From Wide to Long"
   ]
  },
  {
   "cell_type": "code",
   "execution_count": null,
   "id": "b13ee455",
   "metadata": {},
   "outputs": [],
   "source": [
    "df_debt_wide= pd.pivot(\n",
    "    df_debt_long,\n",
    "    index= 'Year',\n",
    "    columns = 'Country',\n",
    "    values = 'Debt ratio',\n",
    ").reset_index()\n"
   ]
  },
  {
   "cell_type": "code",
   "execution_count": null,
   "id": "c73cb6db",
   "metadata": {},
   "outputs": [],
   "source": [
    "df_debt_wide"
   ]
  },
  {
   "cell_type": "code",
   "execution_count": null,
   "id": "e874f0ee",
   "metadata": {},
   "outputs": [],
   "source": [
    "df_debt_long.to_csv('data/df_debt_long.csv',sep = \",\", index= False )"
   ]
  }
 ],
 "metadata": {
  "kernelspec": {
   "display_name": "Python 3 (ipykernel)",
   "language": "python",
   "name": "python3"
  },
  "language_info": {
   "codemirror_mode": {
    "name": "ipython",
    "version": 3
   },
   "file_extension": ".py",
   "mimetype": "text/x-python",
   "name": "python",
   "nbconvert_exporter": "python",
   "pygments_lexer": "ipython3",
   "version": "3.11.7"
  }
 },
 "nbformat": 4,
 "nbformat_minor": 5
}
